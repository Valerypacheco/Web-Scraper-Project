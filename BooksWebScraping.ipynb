{
 "cells": [
  {
   "cell_type": "code",
   "execution_count": null,
   "id": "f6889800-b2c3-4441-ab7a-48f325e2d17d",
   "metadata": {},
   "outputs": [],
   "source": [
    "# import libraries.\n",
    "import requests\n",
    "import pandas as pd\n",
    "!pip install requests beautifulsoup4\n",
    "from bs4 import BeautifulSoup  \n",
    "import datetime as dt\n",
    "import time\n",
    "import smtplib"
   ]
  },
  {
   "cell_type": "code",
   "execution_count": 2,
   "id": "086a70f2-b75e-42a4-a766-50215cd06af5",
   "metadata": {},
   "outputs": [],
   "source": [
    "url='http://books.toscrape.com'\n",
    "header = {\"User-Agent\":\"Mozilla/5.0 (Windows NT 10.0; Win64; x64) AppleWebKit/537.36 (KHTML, like Gecko) Chrome/128.0.0.0 Safari/537.36\"}"
   ]
  },
  {
   "cell_type": "code",
   "execution_count": 3,
   "id": "f8aed5e8-e33c-40b0-b302-0fe55f683bb1",
   "metadata": {},
   "outputs": [],
   "source": [
    "# Connect to Website and pull in data.\n",
    "request = requests.get(url=url,headers=header)\n",
    "soup = BeautifulSoup(request.content, \"html.parser\")\n",
    "books = soup.find_all('li', class_ = 'col-xs-6 col-sm-4 col-md-3 col-lg-3')\n",
    "title = []\n",
    "price = []\n",
    "for book in books:\n",
    "    title.append(book.find('h3').a.get('title'))\n",
    "    price.append(book.find('div', class_ = 'product_price').p.get_text().replace('£',''))"
   ]
  },
  {
   "cell_type": "code",
   "execution_count": 4,
   "id": "caf5a83d-0dba-4607-879e-a152898e18b2",
   "metadata": {},
   "outputs": [],
   "source": [
    "# Create a Timestamp for your output to track when data was collected.\n",
    "date = dt.date.today()\n",
    "\n",
    "\n",
    "# Create CSV and write headers and data into the file.\n",
    "import csv \n",
    "\n",
    "header = ['Title', 'Price', 'Date']\n",
    "date = [title, price,date]\n",
    "\n",
    "\n",
    "with open('BookData.csv', 'w') as file:\n",
    "    writer = csv.writer(file)\n",
    "    writer.writerow(header)\n",
    "    for t,p in zip(title,price):\n",
    "        writer.writerow([t,p,date])"
   ]
  },
  {
   "cell_type": "code",
   "execution_count": null,
   "id": "8d23e8b1-652d-4328-8c31-83add427097f",
   "metadata": {},
   "outputs": [],
   "source": [
    "\n",
    "    "
   ]
  },
  {
   "cell_type": "code",
   "execution_count": 5,
   "id": "41a7acd4-d663-44a0-99aa-18dd420e6428",
   "metadata": {},
   "outputs": [],
   "source": [
    "# sending me an email with price updates.\n",
    "def send_mail():\n",
    "    # Email configuration\n",
    "    my_email = \"xxxxxxxxxx\"\n",
    "    recipient_email = \"xxxxxxxx\"\n",
    "    subject = \"Price Drop Alert!\"\n",
    "    body = (\"This is the moment we have been waiting for. Now is your chance to pick up \")\n",
    "             \n",
    "\n",
    "    # Email content\n",
    "    msg = f\"Subject: {subject}\\n\\n{body}\"\n",
    "\n",
    "    # SMTP server setup\n",
    "    with smtplib.SMTP(\"smtp.gmail.com\", port=587) as server:\n",
    "        server.starttls() \n",
    "        server.login(\"xxxxxx@gmail.com\",\"xxxxxxxxxxx\")  \n",
    "        server.sendmail(my_email, recipient_email, msg) \n"
   ]
  },
  {
   "cell_type": "code",
   "execution_count": 6,
   "id": "6182a47e-ca94-43b7-91da-c2cf7ae29dbb",
   "metadata": {},
   "outputs": [],
   "source": [
    "# #Combine all of the above code into one function\n",
    "def check_price():\n",
    "    url='http://books.toscrape.com'\n",
    "    header = {\"User-Agent\":\"Mozilla/5.0 (Windows NT 10.0; Win64; x64) AppleWebKit/537.36 (KHTML, like Gecko) Chrome/128.0.0.0 Safari/537.36\"}\n",
    "    request = requests.get(url=url,headers=header)\n",
    "    soup = BeautifulSoup(request.content, \"html.parser\")\n",
    "    books = soup.find_all('li', class_ = 'col-xs-6 col-sm-4 col-md-3 col-lg-3')\n",
    "    title = []\n",
    "    price = []\n",
    "    for book in books:\n",
    "        title.append(book.find('h3').a.get('title'))\n",
    "        price.append(book.find('div', class_ = 'product_price').p.get_text().replace('£',''))\n",
    "\n",
    "\n",
    "        \n",
    "    header = ['Title', 'Price', 'Date']\n",
    "    data = [title, price, date]\n",
    "\n",
    "    with open('BookData.csv', 'a+') as file:\n",
    "        writer = csv.writer(file)\n",
    "        for t,p in zip(title,price):\n",
    "            writer.writerow([t,p,date])\n",
    "\n",
    "    new_price= [float(price)for price in price]\n",
    "    for price,t in zip(new_price,title):\n",
    "        if price < 30:\n",
    "            send_mail()"
   ]
  },
  {
   "cell_type": "code",
   "execution_count": null,
   "id": "79f865c2-909f-480a-9548-ce51b091c1d5",
   "metadata": {},
   "outputs": [],
   "source": [
    "# Runs check_price after a set time and inputs data into your CSV\n",
    "\n",
    "import time\n",
    "while(True):\n",
    "    time.sleep(3600)\n",
    "    check_price()"
   ]
  },
  {
   "cell_type": "code",
   "execution_count": null,
   "id": "ef64f37d-12bd-431d-85b2-97b90d5fd684",
   "metadata": {},
   "outputs": [],
   "source": [
    "\n",
    "df = pd.read_csv(r'C:\\Users\\valer\\BookData.csv')\n",
    "print(df)"
   ]
  },
  {
   "cell_type": "code",
   "execution_count": null,
   "id": "712b0b6f-a5ef-4924-b694-fdbabf15078e",
   "metadata": {},
   "outputs": [],
   "source": []
  },
  {
   "cell_type": "code",
   "execution_count": null,
   "id": "da97b8b8-b9c5-48c8-8cf2-cd329e293963",
   "metadata": {},
   "outputs": [],
   "source": []
  },
  {
   "cell_type": "code",
   "execution_count": null,
   "id": "67d418a9-e3a8-4053-b13c-cde5f4c59167",
   "metadata": {},
   "outputs": [],
   "source": []
  },
  {
   "cell_type": "code",
   "execution_count": null,
   "id": "bf0b43c7-9d58-492d-a8cf-dfac8213dca6",
   "metadata": {},
   "outputs": [],
   "source": []
  },
  {
   "cell_type": "code",
   "execution_count": null,
   "id": "8964b558-96de-4fc2-848b-6dd81f7d00b7",
   "metadata": {},
   "outputs": [],
   "source": []
  },
  {
   "cell_type": "code",
   "execution_count": null,
   "id": "376df5b1-e3a3-4427-9c7b-d7b29800aad3",
   "metadata": {},
   "outputs": [],
   "source": []
  }
 ],
 "metadata": {
  "kernelspec": {
   "display_name": "Python 3 (ipykernel)",
   "language": "python",
   "name": "python3"
  },
  "language_info": {
   "codemirror_mode": {
    "name": "ipython",
    "version": 3
   },
   "file_extension": ".py",
   "mimetype": "text/x-python",
   "name": "python",
   "nbconvert_exporter": "python",
   "pygments_lexer": "ipython3",
   "version": "3.12.4"
  }
 },
 "nbformat": 4,
 "nbformat_minor": 5
}
